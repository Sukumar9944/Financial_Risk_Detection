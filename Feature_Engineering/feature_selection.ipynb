{
 "cells": [
  {
   "cell_type": "code",
   "execution_count": 1,
   "metadata": {},
   "outputs": [],
   "source": [
    "import pandas as pd \n",
    "import plotly_express as px"
   ]
  },
  {
   "cell_type": "markdown",
   "metadata": {},
   "source": [
    "##### **Correlation Analysis**"
   ]
  },
  {
   "cell_type": "code",
   "execution_count": 2,
   "metadata": {},
   "outputs": [],
   "source": [
    "df = pd.read_csv(r'F:\\GUVI_DATA_SCIENCE\\Project\\Financial_Risk_Detection\\Datasets\\preprocessed_data.csv')"
   ]
  },
  {
   "cell_type": "code",
   "execution_count": 3,
   "metadata": {},
   "outputs": [],
   "source": [
    "df = df[[\n",
    "    'CNT_CHILDREN',\n",
    "    'AMT_INCOME_TOTAL',\n",
    "    'AMT_CREDIT',\n",
    "    'AMT_ANNUITY',\n",
    "    'AMT_GOODS_PRICE',\n",
    "    'REGION_POPULATION_RELATIVE',\n",
    "    'DAYS_BIRTH',\n",
    "    'DAYS_EMPLOYED',\n",
    "    'DAYS_REGISTRATION',\n",
    "    'DAYS_ID_PUBLISH',\n",
    "    'CNT_FAM_MEMBERS',\n",
    "    'REGION_RATING_CLIENT',\n",
    "    'REGION_RATING_CLIENT_W_CITY',\n",
    "    'HOUR_APPR_PROCESS_START',\n",
    "    'EXT_SOURCE_2',\n",
    "    'OBS_30_CNT_SOCIAL_CIRCLE',\n",
    "    'DEF_30_CNT_SOCIAL_CIRCLE',\n",
    "    'OBS_60_CNT_SOCIAL_CIRCLE',\n",
    "    'DEF_60_CNT_SOCIAL_CIRCLE',\n",
    "    'DAYS_LAST_PHONE_CHANGE'\n",
    "]]"
   ]
  },
  {
   "cell_type": "code",
   "execution_count": 4,
   "metadata": {},
   "outputs": [],
   "source": [
    "corr_data = df.corr(method = 'pearson')"
   ]
  },
  {
   "cell_type": "code",
   "execution_count": 5,
   "metadata": {},
   "outputs": [
    {
     "data": {
      "text/html": [
       "<div>\n",
       "<style scoped>\n",
       "    .dataframe tbody tr th:only-of-type {\n",
       "        vertical-align: middle;\n",
       "    }\n",
       "\n",
       "    .dataframe tbody tr th {\n",
       "        vertical-align: top;\n",
       "    }\n",
       "\n",
       "    .dataframe thead th {\n",
       "        text-align: right;\n",
       "    }\n",
       "</style>\n",
       "<table border=\"1\" class=\"dataframe\">\n",
       "  <thead>\n",
       "    <tr style=\"text-align: right;\">\n",
       "      <th></th>\n",
       "      <th>CNT_CHILDREN</th>\n",
       "      <th>AMT_INCOME_TOTAL</th>\n",
       "      <th>AMT_CREDIT</th>\n",
       "      <th>AMT_ANNUITY</th>\n",
       "      <th>AMT_GOODS_PRICE</th>\n",
       "      <th>REGION_POPULATION_RELATIVE</th>\n",
       "      <th>DAYS_BIRTH</th>\n",
       "      <th>DAYS_EMPLOYED</th>\n",
       "      <th>DAYS_REGISTRATION</th>\n",
       "      <th>DAYS_ID_PUBLISH</th>\n",
       "      <th>CNT_FAM_MEMBERS</th>\n",
       "      <th>REGION_RATING_CLIENT</th>\n",
       "      <th>REGION_RATING_CLIENT_W_CITY</th>\n",
       "      <th>HOUR_APPR_PROCESS_START</th>\n",
       "      <th>EXT_SOURCE_2</th>\n",
       "      <th>OBS_30_CNT_SOCIAL_CIRCLE</th>\n",
       "      <th>DEF_30_CNT_SOCIAL_CIRCLE</th>\n",
       "      <th>OBS_60_CNT_SOCIAL_CIRCLE</th>\n",
       "      <th>DEF_60_CNT_SOCIAL_CIRCLE</th>\n",
       "      <th>DAYS_LAST_PHONE_CHANGE</th>\n",
       "    </tr>\n",
       "  </thead>\n",
       "  <tbody>\n",
       "    <tr>\n",
       "      <th>CNT_CHILDREN</th>\n",
       "      <td>1.000000</td>\n",
       "      <td>0.013099</td>\n",
       "      <td>0.002264</td>\n",
       "      <td>0.021820</td>\n",
       "      <td>-0.001800</td>\n",
       "      <td>-0.025487</td>\n",
       "      <td>-0.331533</td>\n",
       "      <td>-0.241537</td>\n",
       "      <td>-0.183522</td>\n",
       "      <td>0.028186</td>\n",
       "      <td>0.879267</td>\n",
       "      <td>0.025543</td>\n",
       "      <td>0.024857</td>\n",
       "      <td>-0.007134</td>\n",
       "      <td>-0.018309</td>\n",
       "      <td>0.015711</td>\n",
       "      <td>-0.001076</td>\n",
       "      <td>0.015357</td>\n",
       "      <td>-0.001703</td>\n",
       "      <td>0.005216</td>\n",
       "    </tr>\n",
       "    <tr>\n",
       "      <th>AMT_INCOME_TOTAL</th>\n",
       "      <td>0.013099</td>\n",
       "      <td>1.000000</td>\n",
       "      <td>0.155279</td>\n",
       "      <td>0.189892</td>\n",
       "      <td>0.157972</td>\n",
       "      <td>0.073462</td>\n",
       "      <td>-0.027278</td>\n",
       "      <td>-0.063769</td>\n",
       "      <td>-0.027468</td>\n",
       "      <td>-0.008619</td>\n",
       "      <td>0.016376</td>\n",
       "      <td>-0.084416</td>\n",
       "      <td>-0.090731</td>\n",
       "      <td>0.035970</td>\n",
       "      <td>0.060442</td>\n",
       "      <td>-0.013087</td>\n",
       "      <td>-0.013189</td>\n",
       "      <td>-0.013007</td>\n",
       "      <td>-0.013088</td>\n",
       "      <td>0.019147</td>\n",
       "    </tr>\n",
       "    <tr>\n",
       "      <th>AMT_CREDIT</th>\n",
       "      <td>0.002264</td>\n",
       "      <td>0.155279</td>\n",
       "      <td>1.000000</td>\n",
       "      <td>0.769208</td>\n",
       "      <td>0.986977</td>\n",
       "      <td>0.099846</td>\n",
       "      <td>0.056259</td>\n",
       "      <td>-0.063939</td>\n",
       "      <td>-0.008869</td>\n",
       "      <td>0.006168</td>\n",
       "      <td>0.063281</td>\n",
       "      <td>-0.101746</td>\n",
       "      <td>-0.110978</td>\n",
       "      <td>0.052556</td>\n",
       "      <td>0.131546</td>\n",
       "      <td>0.000125</td>\n",
       "      <td>-0.021140</td>\n",
       "      <td>0.000175</td>\n",
       "      <td>-0.023678</td>\n",
       "      <td>0.075253</td>\n",
       "    </tr>\n",
       "    <tr>\n",
       "      <th>AMT_ANNUITY</th>\n",
       "      <td>0.021820</td>\n",
       "      <td>0.189892</td>\n",
       "      <td>0.769208</td>\n",
       "      <td>1.000000</td>\n",
       "      <td>0.774273</td>\n",
       "      <td>0.118393</td>\n",
       "      <td>-0.009876</td>\n",
       "      <td>-0.103305</td>\n",
       "      <td>-0.038353</td>\n",
       "      <td>-0.011855</td>\n",
       "      <td>0.075869</td>\n",
       "      <td>-0.128503</td>\n",
       "      <td>-0.141770</td>\n",
       "      <td>0.052169</td>\n",
       "      <td>0.126087</td>\n",
       "      <td>-0.011984</td>\n",
       "      <td>-0.022837</td>\n",
       "      <td>-0.011734</td>\n",
       "      <td>-0.023974</td>\n",
       "      <td>0.064616</td>\n",
       "    </tr>\n",
       "    <tr>\n",
       "      <th>AMT_GOODS_PRICE</th>\n",
       "      <td>-0.001800</td>\n",
       "      <td>0.157972</td>\n",
       "      <td>0.986977</td>\n",
       "      <td>0.774273</td>\n",
       "      <td>1.000000</td>\n",
       "      <td>0.103520</td>\n",
       "      <td>0.054550</td>\n",
       "      <td>-0.061747</td>\n",
       "      <td>-0.010804</td>\n",
       "      <td>0.008990</td>\n",
       "      <td>0.061285</td>\n",
       "      <td>-0.103575</td>\n",
       "      <td>-0.112110</td>\n",
       "      <td>0.062004</td>\n",
       "      <td>0.139583</td>\n",
       "      <td>0.000258</td>\n",
       "      <td>-0.022217</td>\n",
       "      <td>0.000282</td>\n",
       "      <td>-0.024487</td>\n",
       "      <td>0.077934</td>\n",
       "    </tr>\n",
       "    <tr>\n",
       "      <th>REGION_POPULATION_RELATIVE</th>\n",
       "      <td>-0.025487</td>\n",
       "      <td>0.073462</td>\n",
       "      <td>0.099846</td>\n",
       "      <td>0.118393</td>\n",
       "      <td>0.103520</td>\n",
       "      <td>1.000000</td>\n",
       "      <td>0.029753</td>\n",
       "      <td>-0.004448</td>\n",
       "      <td>0.054210</td>\n",
       "      <td>0.003817</td>\n",
       "      <td>-0.024006</td>\n",
       "      <td>-0.531775</td>\n",
       "      <td>-0.530428</td>\n",
       "      <td>0.170482</td>\n",
       "      <td>0.198646</td>\n",
       "      <td>-0.011370</td>\n",
       "      <td>0.006314</td>\n",
       "      <td>-0.010861</td>\n",
       "      <td>0.002415</td>\n",
       "      <td>0.045253</td>\n",
       "    </tr>\n",
       "    <tr>\n",
       "      <th>DAYS_BIRTH</th>\n",
       "      <td>-0.331533</td>\n",
       "      <td>-0.027278</td>\n",
       "      <td>0.056259</td>\n",
       "      <td>-0.009876</td>\n",
       "      <td>0.054550</td>\n",
       "      <td>0.029753</td>\n",
       "      <td>1.000000</td>\n",
       "      <td>0.624013</td>\n",
       "      <td>0.331997</td>\n",
       "      <td>0.272077</td>\n",
       "      <td>-0.279597</td>\n",
       "      <td>-0.009511</td>\n",
       "      <td>-0.008178</td>\n",
       "      <td>-0.090611</td>\n",
       "      <td>0.091847</td>\n",
       "      <td>-0.007530</td>\n",
       "      <td>-0.000454</td>\n",
       "      <td>-0.007146</td>\n",
       "      <td>-0.002038</td>\n",
       "      <td>0.082807</td>\n",
       "    </tr>\n",
       "    <tr>\n",
       "      <th>DAYS_EMPLOYED</th>\n",
       "      <td>-0.241537</td>\n",
       "      <td>-0.063769</td>\n",
       "      <td>-0.063939</td>\n",
       "      <td>-0.103305</td>\n",
       "      <td>-0.061747</td>\n",
       "      <td>-0.004448</td>\n",
       "      <td>0.624013</td>\n",
       "      <td>1.000000</td>\n",
       "      <td>0.214431</td>\n",
       "      <td>0.274791</td>\n",
       "      <td>-0.234284</td>\n",
       "      <td>0.033287</td>\n",
       "      <td>0.035165</td>\n",
       "      <td>-0.091370</td>\n",
       "      <td>-0.018439</td>\n",
       "      <td>0.005832</td>\n",
       "      <td>0.016244</td>\n",
       "      <td>0.005971</td>\n",
       "      <td>0.013760</td>\n",
       "      <td>-0.019553</td>\n",
       "    </tr>\n",
       "    <tr>\n",
       "      <th>DAYS_REGISTRATION</th>\n",
       "      <td>-0.183522</td>\n",
       "      <td>-0.027468</td>\n",
       "      <td>-0.008869</td>\n",
       "      <td>-0.038353</td>\n",
       "      <td>-0.010804</td>\n",
       "      <td>0.054210</td>\n",
       "      <td>0.331997</td>\n",
       "      <td>0.214431</td>\n",
       "      <td>1.000000</td>\n",
       "      <td>0.101803</td>\n",
       "      <td>-0.173223</td>\n",
       "      <td>-0.080424</td>\n",
       "      <td>-0.074200</td>\n",
       "      <td>0.011061</td>\n",
       "      <td>0.059978</td>\n",
       "      <td>-0.008991</td>\n",
       "      <td>-0.003275</td>\n",
       "      <td>-0.008954</td>\n",
       "      <td>-0.004595</td>\n",
       "      <td>0.057014</td>\n",
       "    </tr>\n",
       "    <tr>\n",
       "      <th>DAYS_ID_PUBLISH</th>\n",
       "      <td>0.028186</td>\n",
       "      <td>-0.008619</td>\n",
       "      <td>0.006168</td>\n",
       "      <td>-0.011855</td>\n",
       "      <td>0.008990</td>\n",
       "      <td>0.003817</td>\n",
       "      <td>0.272077</td>\n",
       "      <td>0.274791</td>\n",
       "      <td>0.101803</td>\n",
       "      <td>1.000000</td>\n",
       "      <td>0.020823</td>\n",
       "      <td>0.005030</td>\n",
       "      <td>0.007651</td>\n",
       "      <td>-0.031748</td>\n",
       "      <td>0.050660</td>\n",
       "      <td>0.012497</td>\n",
       "      <td>-0.002689</td>\n",
       "      <td>0.012906</td>\n",
       "      <td>-0.004308</td>\n",
       "      <td>0.088464</td>\n",
       "    </tr>\n",
       "    <tr>\n",
       "      <th>CNT_FAM_MEMBERS</th>\n",
       "      <td>0.879267</td>\n",
       "      <td>0.016376</td>\n",
       "      <td>0.063281</td>\n",
       "      <td>0.075869</td>\n",
       "      <td>0.061285</td>\n",
       "      <td>-0.024006</td>\n",
       "      <td>-0.279597</td>\n",
       "      <td>-0.234284</td>\n",
       "      <td>-0.173223</td>\n",
       "      <td>0.020823</td>\n",
       "      <td>1.000000</td>\n",
       "      <td>0.029725</td>\n",
       "      <td>0.030790</td>\n",
       "      <td>-0.011934</td>\n",
       "      <td>-0.001975</td>\n",
       "      <td>0.025414</td>\n",
       "      <td>-0.002466</td>\n",
       "      <td>0.025077</td>\n",
       "      <td>-0.004643</td>\n",
       "      <td>0.026478</td>\n",
       "    </tr>\n",
       "    <tr>\n",
       "      <th>REGION_RATING_CLIENT</th>\n",
       "      <td>0.025543</td>\n",
       "      <td>-0.084416</td>\n",
       "      <td>-0.101746</td>\n",
       "      <td>-0.128503</td>\n",
       "      <td>-0.103575</td>\n",
       "      <td>-0.531775</td>\n",
       "      <td>-0.009511</td>\n",
       "      <td>0.033287</td>\n",
       "      <td>-0.080424</td>\n",
       "      <td>0.005030</td>\n",
       "      <td>0.029725</td>\n",
       "      <td>1.000000</td>\n",
       "      <td>0.950608</td>\n",
       "      <td>-0.285362</td>\n",
       "      <td>-0.292439</td>\n",
       "      <td>0.034444</td>\n",
       "      <td>0.015447</td>\n",
       "      <td>0.034071</td>\n",
       "      <td>0.017939</td>\n",
       "      <td>-0.027088</td>\n",
       "    </tr>\n",
       "    <tr>\n",
       "      <th>REGION_RATING_CLIENT_W_CITY</th>\n",
       "      <td>0.024857</td>\n",
       "      <td>-0.090731</td>\n",
       "      <td>-0.110978</td>\n",
       "      <td>-0.141770</td>\n",
       "      <td>-0.112110</td>\n",
       "      <td>-0.530428</td>\n",
       "      <td>-0.008178</td>\n",
       "      <td>0.035165</td>\n",
       "      <td>-0.074200</td>\n",
       "      <td>0.007651</td>\n",
       "      <td>0.030790</td>\n",
       "      <td>0.950608</td>\n",
       "      <td>1.000000</td>\n",
       "      <td>-0.264411</td>\n",
       "      <td>-0.287914</td>\n",
       "      <td>0.030306</td>\n",
       "      <td>0.013990</td>\n",
       "      <td>0.029945</td>\n",
       "      <td>0.017092</td>\n",
       "      <td>-0.026745</td>\n",
       "    </tr>\n",
       "    <tr>\n",
       "      <th>HOUR_APPR_PROCESS_START</th>\n",
       "      <td>-0.007134</td>\n",
       "      <td>0.035970</td>\n",
       "      <td>0.052556</td>\n",
       "      <td>0.052169</td>\n",
       "      <td>0.062004</td>\n",
       "      <td>0.170482</td>\n",
       "      <td>-0.090611</td>\n",
       "      <td>-0.091370</td>\n",
       "      <td>0.011061</td>\n",
       "      <td>-0.031748</td>\n",
       "      <td>-0.011934</td>\n",
       "      <td>-0.285362</td>\n",
       "      <td>-0.264411</td>\n",
       "      <td>1.000000</td>\n",
       "      <td>0.156721</td>\n",
       "      <td>-0.008693</td>\n",
       "      <td>-0.006028</td>\n",
       "      <td>-0.008595</td>\n",
       "      <td>-0.009027</td>\n",
       "      <td>0.015461</td>\n",
       "    </tr>\n",
       "    <tr>\n",
       "      <th>EXT_SOURCE_2</th>\n",
       "      <td>-0.018309</td>\n",
       "      <td>0.060442</td>\n",
       "      <td>0.131546</td>\n",
       "      <td>0.126087</td>\n",
       "      <td>0.139583</td>\n",
       "      <td>0.198646</td>\n",
       "      <td>0.091847</td>\n",
       "      <td>-0.018439</td>\n",
       "      <td>0.059978</td>\n",
       "      <td>0.050660</td>\n",
       "      <td>-0.001975</td>\n",
       "      <td>-0.292439</td>\n",
       "      <td>-0.287914</td>\n",
       "      <td>0.156721</td>\n",
       "      <td>1.000000</td>\n",
       "      <td>-0.019154</td>\n",
       "      <td>-0.030465</td>\n",
       "      <td>-0.018798</td>\n",
       "      <td>-0.032332</td>\n",
       "      <td>0.196642</td>\n",
       "    </tr>\n",
       "    <tr>\n",
       "      <th>OBS_30_CNT_SOCIAL_CIRCLE</th>\n",
       "      <td>0.015711</td>\n",
       "      <td>-0.013087</td>\n",
       "      <td>0.000125</td>\n",
       "      <td>-0.011984</td>\n",
       "      <td>0.000258</td>\n",
       "      <td>-0.011370</td>\n",
       "      <td>-0.007530</td>\n",
       "      <td>0.005832</td>\n",
       "      <td>-0.008991</td>\n",
       "      <td>0.012497</td>\n",
       "      <td>0.025414</td>\n",
       "      <td>0.034444</td>\n",
       "      <td>0.030306</td>\n",
       "      <td>-0.008693</td>\n",
       "      <td>-0.019154</td>\n",
       "      <td>1.000000</td>\n",
       "      <td>0.329274</td>\n",
       "      <td>0.998495</td>\n",
       "      <td>0.253453</td>\n",
       "      <td>0.014941</td>\n",
       "    </tr>\n",
       "    <tr>\n",
       "      <th>DEF_30_CNT_SOCIAL_CIRCLE</th>\n",
       "      <td>-0.001076</td>\n",
       "      <td>-0.013189</td>\n",
       "      <td>-0.021140</td>\n",
       "      <td>-0.022837</td>\n",
       "      <td>-0.022217</td>\n",
       "      <td>0.006314</td>\n",
       "      <td>-0.000454</td>\n",
       "      <td>0.016244</td>\n",
       "      <td>-0.003275</td>\n",
       "      <td>-0.002689</td>\n",
       "      <td>-0.002466</td>\n",
       "      <td>0.015447</td>\n",
       "      <td>0.013990</td>\n",
       "      <td>-0.006028</td>\n",
       "      <td>-0.030465</td>\n",
       "      <td>0.329274</td>\n",
       "      <td>1.000000</td>\n",
       "      <td>0.331485</td>\n",
       "      <td>0.860672</td>\n",
       "      <td>-0.000573</td>\n",
       "    </tr>\n",
       "    <tr>\n",
       "      <th>OBS_60_CNT_SOCIAL_CIRCLE</th>\n",
       "      <td>0.015357</td>\n",
       "      <td>-0.013007</td>\n",
       "      <td>0.000175</td>\n",
       "      <td>-0.011734</td>\n",
       "      <td>0.000282</td>\n",
       "      <td>-0.010861</td>\n",
       "      <td>-0.007146</td>\n",
       "      <td>0.005971</td>\n",
       "      <td>-0.008954</td>\n",
       "      <td>0.012906</td>\n",
       "      <td>0.025077</td>\n",
       "      <td>0.034071</td>\n",
       "      <td>0.029945</td>\n",
       "      <td>-0.008595</td>\n",
       "      <td>-0.018798</td>\n",
       "      <td>0.998495</td>\n",
       "      <td>0.331485</td>\n",
       "      <td>1.000000</td>\n",
       "      <td>0.255509</td>\n",
       "      <td>0.015353</td>\n",
       "    </tr>\n",
       "    <tr>\n",
       "      <th>DEF_60_CNT_SOCIAL_CIRCLE</th>\n",
       "      <td>-0.001703</td>\n",
       "      <td>-0.013088</td>\n",
       "      <td>-0.023678</td>\n",
       "      <td>-0.023974</td>\n",
       "      <td>-0.024487</td>\n",
       "      <td>0.002415</td>\n",
       "      <td>-0.002038</td>\n",
       "      <td>0.013760</td>\n",
       "      <td>-0.004595</td>\n",
       "      <td>-0.004308</td>\n",
       "      <td>-0.004643</td>\n",
       "      <td>0.017939</td>\n",
       "      <td>0.017092</td>\n",
       "      <td>-0.009027</td>\n",
       "      <td>-0.032332</td>\n",
       "      <td>0.253453</td>\n",
       "      <td>0.860672</td>\n",
       "      <td>0.255509</td>\n",
       "      <td>1.000000</td>\n",
       "      <td>-0.002160</td>\n",
       "    </tr>\n",
       "    <tr>\n",
       "      <th>DAYS_LAST_PHONE_CHANGE</th>\n",
       "      <td>0.005216</td>\n",
       "      <td>0.019147</td>\n",
       "      <td>0.075253</td>\n",
       "      <td>0.064616</td>\n",
       "      <td>0.077934</td>\n",
       "      <td>0.045253</td>\n",
       "      <td>0.082807</td>\n",
       "      <td>-0.019553</td>\n",
       "      <td>0.057014</td>\n",
       "      <td>0.088464</td>\n",
       "      <td>0.026478</td>\n",
       "      <td>-0.027088</td>\n",
       "      <td>-0.026745</td>\n",
       "      <td>0.015461</td>\n",
       "      <td>0.196642</td>\n",
       "      <td>0.014941</td>\n",
       "      <td>-0.000573</td>\n",
       "      <td>0.015353</td>\n",
       "      <td>-0.002160</td>\n",
       "      <td>1.000000</td>\n",
       "    </tr>\n",
       "  </tbody>\n",
       "</table>\n",
       "</div>"
      ],
      "text/plain": [
       "                             CNT_CHILDREN  AMT_INCOME_TOTAL  AMT_CREDIT  \\\n",
       "CNT_CHILDREN                     1.000000          0.013099    0.002264   \n",
       "AMT_INCOME_TOTAL                 0.013099          1.000000    0.155279   \n",
       "AMT_CREDIT                       0.002264          0.155279    1.000000   \n",
       "AMT_ANNUITY                      0.021820          0.189892    0.769208   \n",
       "AMT_GOODS_PRICE                 -0.001800          0.157972    0.986977   \n",
       "REGION_POPULATION_RELATIVE      -0.025487          0.073462    0.099846   \n",
       "DAYS_BIRTH                      -0.331533         -0.027278    0.056259   \n",
       "DAYS_EMPLOYED                   -0.241537         -0.063769   -0.063939   \n",
       "DAYS_REGISTRATION               -0.183522         -0.027468   -0.008869   \n",
       "DAYS_ID_PUBLISH                  0.028186         -0.008619    0.006168   \n",
       "CNT_FAM_MEMBERS                  0.879267          0.016376    0.063281   \n",
       "REGION_RATING_CLIENT             0.025543         -0.084416   -0.101746   \n",
       "REGION_RATING_CLIENT_W_CITY      0.024857         -0.090731   -0.110978   \n",
       "HOUR_APPR_PROCESS_START         -0.007134          0.035970    0.052556   \n",
       "EXT_SOURCE_2                    -0.018309          0.060442    0.131546   \n",
       "OBS_30_CNT_SOCIAL_CIRCLE         0.015711         -0.013087    0.000125   \n",
       "DEF_30_CNT_SOCIAL_CIRCLE        -0.001076         -0.013189   -0.021140   \n",
       "OBS_60_CNT_SOCIAL_CIRCLE         0.015357         -0.013007    0.000175   \n",
       "DEF_60_CNT_SOCIAL_CIRCLE        -0.001703         -0.013088   -0.023678   \n",
       "DAYS_LAST_PHONE_CHANGE           0.005216          0.019147    0.075253   \n",
       "\n",
       "                             AMT_ANNUITY  AMT_GOODS_PRICE  \\\n",
       "CNT_CHILDREN                    0.021820        -0.001800   \n",
       "AMT_INCOME_TOTAL                0.189892         0.157972   \n",
       "AMT_CREDIT                      0.769208         0.986977   \n",
       "AMT_ANNUITY                     1.000000         0.774273   \n",
       "AMT_GOODS_PRICE                 0.774273         1.000000   \n",
       "REGION_POPULATION_RELATIVE      0.118393         0.103520   \n",
       "DAYS_BIRTH                     -0.009876         0.054550   \n",
       "DAYS_EMPLOYED                  -0.103305        -0.061747   \n",
       "DAYS_REGISTRATION              -0.038353        -0.010804   \n",
       "DAYS_ID_PUBLISH                -0.011855         0.008990   \n",
       "CNT_FAM_MEMBERS                 0.075869         0.061285   \n",
       "REGION_RATING_CLIENT           -0.128503        -0.103575   \n",
       "REGION_RATING_CLIENT_W_CITY    -0.141770        -0.112110   \n",
       "HOUR_APPR_PROCESS_START         0.052169         0.062004   \n",
       "EXT_SOURCE_2                    0.126087         0.139583   \n",
       "OBS_30_CNT_SOCIAL_CIRCLE       -0.011984         0.000258   \n",
       "DEF_30_CNT_SOCIAL_CIRCLE       -0.022837        -0.022217   \n",
       "OBS_60_CNT_SOCIAL_CIRCLE       -0.011734         0.000282   \n",
       "DEF_60_CNT_SOCIAL_CIRCLE       -0.023974        -0.024487   \n",
       "DAYS_LAST_PHONE_CHANGE          0.064616         0.077934   \n",
       "\n",
       "                             REGION_POPULATION_RELATIVE  DAYS_BIRTH  \\\n",
       "CNT_CHILDREN                                  -0.025487   -0.331533   \n",
       "AMT_INCOME_TOTAL                               0.073462   -0.027278   \n",
       "AMT_CREDIT                                     0.099846    0.056259   \n",
       "AMT_ANNUITY                                    0.118393   -0.009876   \n",
       "AMT_GOODS_PRICE                                0.103520    0.054550   \n",
       "REGION_POPULATION_RELATIVE                     1.000000    0.029753   \n",
       "DAYS_BIRTH                                     0.029753    1.000000   \n",
       "DAYS_EMPLOYED                                 -0.004448    0.624013   \n",
       "DAYS_REGISTRATION                              0.054210    0.331997   \n",
       "DAYS_ID_PUBLISH                                0.003817    0.272077   \n",
       "CNT_FAM_MEMBERS                               -0.024006   -0.279597   \n",
       "REGION_RATING_CLIENT                          -0.531775   -0.009511   \n",
       "REGION_RATING_CLIENT_W_CITY                   -0.530428   -0.008178   \n",
       "HOUR_APPR_PROCESS_START                        0.170482   -0.090611   \n",
       "EXT_SOURCE_2                                   0.198646    0.091847   \n",
       "OBS_30_CNT_SOCIAL_CIRCLE                      -0.011370   -0.007530   \n",
       "DEF_30_CNT_SOCIAL_CIRCLE                       0.006314   -0.000454   \n",
       "OBS_60_CNT_SOCIAL_CIRCLE                      -0.010861   -0.007146   \n",
       "DEF_60_CNT_SOCIAL_CIRCLE                       0.002415   -0.002038   \n",
       "DAYS_LAST_PHONE_CHANGE                         0.045253    0.082807   \n",
       "\n",
       "                             DAYS_EMPLOYED  DAYS_REGISTRATION  \\\n",
       "CNT_CHILDREN                     -0.241537          -0.183522   \n",
       "AMT_INCOME_TOTAL                 -0.063769          -0.027468   \n",
       "AMT_CREDIT                       -0.063939          -0.008869   \n",
       "AMT_ANNUITY                      -0.103305          -0.038353   \n",
       "AMT_GOODS_PRICE                  -0.061747          -0.010804   \n",
       "REGION_POPULATION_RELATIVE       -0.004448           0.054210   \n",
       "DAYS_BIRTH                        0.624013           0.331997   \n",
       "DAYS_EMPLOYED                     1.000000           0.214431   \n",
       "DAYS_REGISTRATION                 0.214431           1.000000   \n",
       "DAYS_ID_PUBLISH                   0.274791           0.101803   \n",
       "CNT_FAM_MEMBERS                  -0.234284          -0.173223   \n",
       "REGION_RATING_CLIENT              0.033287          -0.080424   \n",
       "REGION_RATING_CLIENT_W_CITY       0.035165          -0.074200   \n",
       "HOUR_APPR_PROCESS_START          -0.091370           0.011061   \n",
       "EXT_SOURCE_2                     -0.018439           0.059978   \n",
       "OBS_30_CNT_SOCIAL_CIRCLE          0.005832          -0.008991   \n",
       "DEF_30_CNT_SOCIAL_CIRCLE          0.016244          -0.003275   \n",
       "OBS_60_CNT_SOCIAL_CIRCLE          0.005971          -0.008954   \n",
       "DEF_60_CNT_SOCIAL_CIRCLE          0.013760          -0.004595   \n",
       "DAYS_LAST_PHONE_CHANGE           -0.019553           0.057014   \n",
       "\n",
       "                             DAYS_ID_PUBLISH  CNT_FAM_MEMBERS  \\\n",
       "CNT_CHILDREN                        0.028186         0.879267   \n",
       "AMT_INCOME_TOTAL                   -0.008619         0.016376   \n",
       "AMT_CREDIT                          0.006168         0.063281   \n",
       "AMT_ANNUITY                        -0.011855         0.075869   \n",
       "AMT_GOODS_PRICE                     0.008990         0.061285   \n",
       "REGION_POPULATION_RELATIVE          0.003817        -0.024006   \n",
       "DAYS_BIRTH                          0.272077        -0.279597   \n",
       "DAYS_EMPLOYED                       0.274791        -0.234284   \n",
       "DAYS_REGISTRATION                   0.101803        -0.173223   \n",
       "DAYS_ID_PUBLISH                     1.000000         0.020823   \n",
       "CNT_FAM_MEMBERS                     0.020823         1.000000   \n",
       "REGION_RATING_CLIENT                0.005030         0.029725   \n",
       "REGION_RATING_CLIENT_W_CITY         0.007651         0.030790   \n",
       "HOUR_APPR_PROCESS_START            -0.031748        -0.011934   \n",
       "EXT_SOURCE_2                        0.050660        -0.001975   \n",
       "OBS_30_CNT_SOCIAL_CIRCLE            0.012497         0.025414   \n",
       "DEF_30_CNT_SOCIAL_CIRCLE           -0.002689        -0.002466   \n",
       "OBS_60_CNT_SOCIAL_CIRCLE            0.012906         0.025077   \n",
       "DEF_60_CNT_SOCIAL_CIRCLE           -0.004308        -0.004643   \n",
       "DAYS_LAST_PHONE_CHANGE              0.088464         0.026478   \n",
       "\n",
       "                             REGION_RATING_CLIENT  \\\n",
       "CNT_CHILDREN                             0.025543   \n",
       "AMT_INCOME_TOTAL                        -0.084416   \n",
       "AMT_CREDIT                              -0.101746   \n",
       "AMT_ANNUITY                             -0.128503   \n",
       "AMT_GOODS_PRICE                         -0.103575   \n",
       "REGION_POPULATION_RELATIVE              -0.531775   \n",
       "DAYS_BIRTH                              -0.009511   \n",
       "DAYS_EMPLOYED                            0.033287   \n",
       "DAYS_REGISTRATION                       -0.080424   \n",
       "DAYS_ID_PUBLISH                          0.005030   \n",
       "CNT_FAM_MEMBERS                          0.029725   \n",
       "REGION_RATING_CLIENT                     1.000000   \n",
       "REGION_RATING_CLIENT_W_CITY              0.950608   \n",
       "HOUR_APPR_PROCESS_START                 -0.285362   \n",
       "EXT_SOURCE_2                            -0.292439   \n",
       "OBS_30_CNT_SOCIAL_CIRCLE                 0.034444   \n",
       "DEF_30_CNT_SOCIAL_CIRCLE                 0.015447   \n",
       "OBS_60_CNT_SOCIAL_CIRCLE                 0.034071   \n",
       "DEF_60_CNT_SOCIAL_CIRCLE                 0.017939   \n",
       "DAYS_LAST_PHONE_CHANGE                  -0.027088   \n",
       "\n",
       "                             REGION_RATING_CLIENT_W_CITY  \\\n",
       "CNT_CHILDREN                                    0.024857   \n",
       "AMT_INCOME_TOTAL                               -0.090731   \n",
       "AMT_CREDIT                                     -0.110978   \n",
       "AMT_ANNUITY                                    -0.141770   \n",
       "AMT_GOODS_PRICE                                -0.112110   \n",
       "REGION_POPULATION_RELATIVE                     -0.530428   \n",
       "DAYS_BIRTH                                     -0.008178   \n",
       "DAYS_EMPLOYED                                   0.035165   \n",
       "DAYS_REGISTRATION                              -0.074200   \n",
       "DAYS_ID_PUBLISH                                 0.007651   \n",
       "CNT_FAM_MEMBERS                                 0.030790   \n",
       "REGION_RATING_CLIENT                            0.950608   \n",
       "REGION_RATING_CLIENT_W_CITY                     1.000000   \n",
       "HOUR_APPR_PROCESS_START                        -0.264411   \n",
       "EXT_SOURCE_2                                   -0.287914   \n",
       "OBS_30_CNT_SOCIAL_CIRCLE                        0.030306   \n",
       "DEF_30_CNT_SOCIAL_CIRCLE                        0.013990   \n",
       "OBS_60_CNT_SOCIAL_CIRCLE                        0.029945   \n",
       "DEF_60_CNT_SOCIAL_CIRCLE                        0.017092   \n",
       "DAYS_LAST_PHONE_CHANGE                         -0.026745   \n",
       "\n",
       "                             HOUR_APPR_PROCESS_START  EXT_SOURCE_2  \\\n",
       "CNT_CHILDREN                               -0.007134     -0.018309   \n",
       "AMT_INCOME_TOTAL                            0.035970      0.060442   \n",
       "AMT_CREDIT                                  0.052556      0.131546   \n",
       "AMT_ANNUITY                                 0.052169      0.126087   \n",
       "AMT_GOODS_PRICE                             0.062004      0.139583   \n",
       "REGION_POPULATION_RELATIVE                  0.170482      0.198646   \n",
       "DAYS_BIRTH                                 -0.090611      0.091847   \n",
       "DAYS_EMPLOYED                              -0.091370     -0.018439   \n",
       "DAYS_REGISTRATION                           0.011061      0.059978   \n",
       "DAYS_ID_PUBLISH                            -0.031748      0.050660   \n",
       "CNT_FAM_MEMBERS                            -0.011934     -0.001975   \n",
       "REGION_RATING_CLIENT                       -0.285362     -0.292439   \n",
       "REGION_RATING_CLIENT_W_CITY                -0.264411     -0.287914   \n",
       "HOUR_APPR_PROCESS_START                     1.000000      0.156721   \n",
       "EXT_SOURCE_2                                0.156721      1.000000   \n",
       "OBS_30_CNT_SOCIAL_CIRCLE                   -0.008693     -0.019154   \n",
       "DEF_30_CNT_SOCIAL_CIRCLE                   -0.006028     -0.030465   \n",
       "OBS_60_CNT_SOCIAL_CIRCLE                   -0.008595     -0.018798   \n",
       "DEF_60_CNT_SOCIAL_CIRCLE                   -0.009027     -0.032332   \n",
       "DAYS_LAST_PHONE_CHANGE                      0.015461      0.196642   \n",
       "\n",
       "                             OBS_30_CNT_SOCIAL_CIRCLE  \\\n",
       "CNT_CHILDREN                                 0.015711   \n",
       "AMT_INCOME_TOTAL                            -0.013087   \n",
       "AMT_CREDIT                                   0.000125   \n",
       "AMT_ANNUITY                                 -0.011984   \n",
       "AMT_GOODS_PRICE                              0.000258   \n",
       "REGION_POPULATION_RELATIVE                  -0.011370   \n",
       "DAYS_BIRTH                                  -0.007530   \n",
       "DAYS_EMPLOYED                                0.005832   \n",
       "DAYS_REGISTRATION                           -0.008991   \n",
       "DAYS_ID_PUBLISH                              0.012497   \n",
       "CNT_FAM_MEMBERS                              0.025414   \n",
       "REGION_RATING_CLIENT                         0.034444   \n",
       "REGION_RATING_CLIENT_W_CITY                  0.030306   \n",
       "HOUR_APPR_PROCESS_START                     -0.008693   \n",
       "EXT_SOURCE_2                                -0.019154   \n",
       "OBS_30_CNT_SOCIAL_CIRCLE                     1.000000   \n",
       "DEF_30_CNT_SOCIAL_CIRCLE                     0.329274   \n",
       "OBS_60_CNT_SOCIAL_CIRCLE                     0.998495   \n",
       "DEF_60_CNT_SOCIAL_CIRCLE                     0.253453   \n",
       "DAYS_LAST_PHONE_CHANGE                       0.014941   \n",
       "\n",
       "                             DEF_30_CNT_SOCIAL_CIRCLE  \\\n",
       "CNT_CHILDREN                                -0.001076   \n",
       "AMT_INCOME_TOTAL                            -0.013189   \n",
       "AMT_CREDIT                                  -0.021140   \n",
       "AMT_ANNUITY                                 -0.022837   \n",
       "AMT_GOODS_PRICE                             -0.022217   \n",
       "REGION_POPULATION_RELATIVE                   0.006314   \n",
       "DAYS_BIRTH                                  -0.000454   \n",
       "DAYS_EMPLOYED                                0.016244   \n",
       "DAYS_REGISTRATION                           -0.003275   \n",
       "DAYS_ID_PUBLISH                             -0.002689   \n",
       "CNT_FAM_MEMBERS                             -0.002466   \n",
       "REGION_RATING_CLIENT                         0.015447   \n",
       "REGION_RATING_CLIENT_W_CITY                  0.013990   \n",
       "HOUR_APPR_PROCESS_START                     -0.006028   \n",
       "EXT_SOURCE_2                                -0.030465   \n",
       "OBS_30_CNT_SOCIAL_CIRCLE                     0.329274   \n",
       "DEF_30_CNT_SOCIAL_CIRCLE                     1.000000   \n",
       "OBS_60_CNT_SOCIAL_CIRCLE                     0.331485   \n",
       "DEF_60_CNT_SOCIAL_CIRCLE                     0.860672   \n",
       "DAYS_LAST_PHONE_CHANGE                      -0.000573   \n",
       "\n",
       "                             OBS_60_CNT_SOCIAL_CIRCLE  \\\n",
       "CNT_CHILDREN                                 0.015357   \n",
       "AMT_INCOME_TOTAL                            -0.013007   \n",
       "AMT_CREDIT                                   0.000175   \n",
       "AMT_ANNUITY                                 -0.011734   \n",
       "AMT_GOODS_PRICE                              0.000282   \n",
       "REGION_POPULATION_RELATIVE                  -0.010861   \n",
       "DAYS_BIRTH                                  -0.007146   \n",
       "DAYS_EMPLOYED                                0.005971   \n",
       "DAYS_REGISTRATION                           -0.008954   \n",
       "DAYS_ID_PUBLISH                              0.012906   \n",
       "CNT_FAM_MEMBERS                              0.025077   \n",
       "REGION_RATING_CLIENT                         0.034071   \n",
       "REGION_RATING_CLIENT_W_CITY                  0.029945   \n",
       "HOUR_APPR_PROCESS_START                     -0.008595   \n",
       "EXT_SOURCE_2                                -0.018798   \n",
       "OBS_30_CNT_SOCIAL_CIRCLE                     0.998495   \n",
       "DEF_30_CNT_SOCIAL_CIRCLE                     0.331485   \n",
       "OBS_60_CNT_SOCIAL_CIRCLE                     1.000000   \n",
       "DEF_60_CNT_SOCIAL_CIRCLE                     0.255509   \n",
       "DAYS_LAST_PHONE_CHANGE                       0.015353   \n",
       "\n",
       "                             DEF_60_CNT_SOCIAL_CIRCLE  DAYS_LAST_PHONE_CHANGE  \n",
       "CNT_CHILDREN                                -0.001703                0.005216  \n",
       "AMT_INCOME_TOTAL                            -0.013088                0.019147  \n",
       "AMT_CREDIT                                  -0.023678                0.075253  \n",
       "AMT_ANNUITY                                 -0.023974                0.064616  \n",
       "AMT_GOODS_PRICE                             -0.024487                0.077934  \n",
       "REGION_POPULATION_RELATIVE                   0.002415                0.045253  \n",
       "DAYS_BIRTH                                  -0.002038                0.082807  \n",
       "DAYS_EMPLOYED                                0.013760               -0.019553  \n",
       "DAYS_REGISTRATION                           -0.004595                0.057014  \n",
       "DAYS_ID_PUBLISH                             -0.004308                0.088464  \n",
       "CNT_FAM_MEMBERS                             -0.004643                0.026478  \n",
       "REGION_RATING_CLIENT                         0.017939               -0.027088  \n",
       "REGION_RATING_CLIENT_W_CITY                  0.017092               -0.026745  \n",
       "HOUR_APPR_PROCESS_START                     -0.009027                0.015461  \n",
       "EXT_SOURCE_2                                -0.032332                0.196642  \n",
       "OBS_30_CNT_SOCIAL_CIRCLE                     0.253453                0.014941  \n",
       "DEF_30_CNT_SOCIAL_CIRCLE                     0.860672               -0.000573  \n",
       "OBS_60_CNT_SOCIAL_CIRCLE                     0.255509                0.015353  \n",
       "DEF_60_CNT_SOCIAL_CIRCLE                     1.000000               -0.002160  \n",
       "DAYS_LAST_PHONE_CHANGE                      -0.002160                1.000000  "
      ]
     },
     "execution_count": 5,
     "metadata": {},
     "output_type": "execute_result"
    }
   ],
   "source": [
    "corr_data"
   ]
  },
  {
   "cell_type": "code",
   "execution_count": 12,
   "metadata": {},
   "outputs": [
    {
     "data": {
      "application/vnd.plotly.v1+json": {
       "config": {
        "plotlyServerURL": "https://plot.ly"
       },
       "data": [
        {
         "coloraxis": "coloraxis",
         "hovertemplate": "x: %{x}<br>y: %{y}<br>color: %{z}<extra></extra>",
         "name": "0",
         "type": "heatmap",
         "x": [
          "CNT_CHILDREN",
          "AMT_INCOME_TOTAL",
          "AMT_CREDIT",
          "AMT_ANNUITY",
          "AMT_GOODS_PRICE",
          "REGION_POPULATION_RELATIVE",
          "DAYS_BIRTH",
          "DAYS_EMPLOYED",
          "DAYS_REGISTRATION",
          "DAYS_ID_PUBLISH",
          "CNT_FAM_MEMBERS",
          "REGION_RATING_CLIENT",
          "REGION_RATING_CLIENT_W_CITY",
          "HOUR_APPR_PROCESS_START",
          "EXT_SOURCE_2",
          "OBS_30_CNT_SOCIAL_CIRCLE",
          "DEF_30_CNT_SOCIAL_CIRCLE",
          "OBS_60_CNT_SOCIAL_CIRCLE",
          "DEF_60_CNT_SOCIAL_CIRCLE",
          "DAYS_LAST_PHONE_CHANGE"
         ],
         "xaxis": "x",
         "y": [
          "CNT_CHILDREN",
          "AMT_INCOME_TOTAL",
          "AMT_CREDIT",
          "AMT_ANNUITY",
          "AMT_GOODS_PRICE",
          "REGION_POPULATION_RELATIVE",
          "DAYS_BIRTH",
          "DAYS_EMPLOYED",
          "DAYS_REGISTRATION",
          "DAYS_ID_PUBLISH",
          "CNT_FAM_MEMBERS",
          "REGION_RATING_CLIENT",
          "REGION_RATING_CLIENT_W_CITY",
          "HOUR_APPR_PROCESS_START",
          "EXT_SOURCE_2",
          "OBS_30_CNT_SOCIAL_CIRCLE",
          "DEF_30_CNT_SOCIAL_CIRCLE",
          "OBS_60_CNT_SOCIAL_CIRCLE",
          "DEF_60_CNT_SOCIAL_CIRCLE",
          "DAYS_LAST_PHONE_CHANGE"
         ],
         "yaxis": "y",
         "z": [
          [
           1,
           0.013099432251165886,
           0.0022639742650848926,
           0.02182035235851703,
           -0.0017998076851531133,
           -0.025486684140161232,
           -0.3315330055866487,
           -0.241537418824811,
           -0.18352216640680757,
           0.028185631216645142,
           0.8792666795601138,
           0.0255426210215885,
           0.02485673031640129,
           -0.007133644644716532,
           -0.01830889697226238,
           0.015711375174353403,
           -0.001076052723123695,
           0.015357025887858252,
           -0.0017027173862316698,
           0.005215918346977445
          ],
          [
           0.013099432251165886,
           1,
           0.1552788094221107,
           0.18989184662210165,
           0.15797177515923533,
           0.07346186491225382,
           -0.027277927915067945,
           -0.06376866493870996,
           -0.027468363405306513,
           -0.008619202351046506,
           0.016375762250476135,
           -0.08441634801795701,
           -0.09073052749778582,
           0.03596971481218238,
           0.060442454632743225,
           -0.013087411530864847,
           -0.013188545942284165,
           -0.013007145691503196,
           -0.013087639858421764,
           0.019147022874425122
          ],
          [
           0.0022639742650848926,
           0.1552788094221107,
           1,
           0.7692081694941043,
           0.9869772741235533,
           0.09984636965357724,
           0.05625869586648813,
           -0.06393944975408711,
           -0.00886905025346193,
           0.006167959193464704,
           0.06328120441221621,
           -0.10174588587314544,
           -0.1109782808789299,
           0.05255576119136333,
           0.13154597610227975,
           0.00012482556179724838,
           -0.021140225098000176,
           0.00017501119218480549,
           -0.023678431824410928,
           0.07525347977002587
          ],
          [
           0.02182035235851703,
           0.18989184662210165,
           0.7692081694941043,
           1,
           0.7742733545050721,
           0.1183932788718445,
           -0.009876230753550416,
           -0.10330480130880951,
           -0.03835267288779072,
           -0.011855390565312299,
           0.07586941565332149,
           -0.1285031138350279,
           -0.14176963755379018,
           0.05216883702832841,
           0.1260867165834715,
           -0.011984368048580931,
           -0.022836842330270515,
           -0.011733903783648936,
           -0.02397441228898429,
           0.06461647933544806
          ],
          [
           -0.0017998076851531133,
           0.15797177515923533,
           0.9869772741235533,
           0.7742733545050721,
           1,
           0.10352048292284673,
           0.05455046795188259,
           -0.061747194545798724,
           -0.010803516312883255,
           0.00899039513664182,
           0.06128545254634147,
           -0.10357529841038732,
           -0.11211023344970455,
           0.062003933906689394,
           0.13958275646582655,
           0.00025843905101905976,
           -0.02221653867114367,
           0.0002823068304491845,
           -0.02448727601005411,
           0.07793410637610512
          ],
          [
           -0.025486684140161232,
           0.07346186491225382,
           0.09984636965357724,
           0.1183932788718445,
           0.10352048292284673,
           1,
           0.02975341478112924,
           -0.004448099398937808,
           0.05420976633798099,
           0.0038173406021238987,
           -0.024005979206540663,
           -0.5317749015575376,
           -0.5304279266863065,
           0.1704819501580822,
           0.19864601665055973,
           -0.011369918108719816,
           0.006313614572525934,
           -0.010860685425443588,
           0.0024150374502624862,
           0.04525255970573733
          ],
          [
           -0.3315330055866487,
           -0.027277927915067945,
           0.05625869586648813,
           -0.009876230753550416,
           0.05455046795188259,
           0.02975341478112924,
           1,
           0.6240126188089843,
           0.3319968825376142,
           0.2720766079036534,
           -0.27959686927731414,
           -0.009511026010981942,
           -0.008178204199307641,
           -0.09061070612347262,
           0.09184674144829554,
           -0.007529529615201087,
           -0.00045394312703965354,
           -0.007145949341064452,
           -0.0020376806924146005,
           0.08280694755012141
          ],
          [
           -0.241537418824811,
           -0.06376866493870996,
           -0.06393944975408711,
           -0.10330480130880951,
           -0.061747194545798724,
           -0.004448099398937808,
           0.6240126188089843,
           1,
           0.21443146717832207,
           0.27479145552818174,
           -0.23428379073909683,
           0.03328684007620939,
           0.03516497040203399,
           -0.09137002273803818,
           -0.018438995922047837,
           0.005832205662558655,
           0.01624413373033921,
           0.005971220819954853,
           0.013760486629225327,
           -0.01955284350167313
          ],
          [
           -0.18352216640680757,
           -0.027468363405306513,
           -0.00886905025346193,
           -0.03835267288779072,
           -0.010803516312883255,
           0.05420976633798099,
           0.3319968825376142,
           0.21443146717832207,
           1,
           0.10180296279931869,
           -0.17322309763625285,
           -0.08042352692297171,
           -0.07420039933694265,
           0.011061357124622466,
           0.059978275085446904,
           -0.008991359507226546,
           -0.003275494700260132,
           -0.008954420722715292,
           -0.004594573493276642,
           0.05701412952100983
          ],
          [
           0.028185631216645142,
           -0.008619202351046506,
           0.006167959193464704,
           -0.011855390565312299,
           0.00899039513664182,
           0.0038173406021238987,
           0.2720766079036534,
           0.27479145552818174,
           0.10180296279931869,
           1,
           0.020823026950681698,
           0.005030093310483651,
           0.007650584799830141,
           -0.03174789381809843,
           0.05065983749450076,
           0.012496511817682682,
           -0.0026890546280668747,
           0.012906437116621344,
           -0.004307884677958333,
           0.0884637161260986
          ],
          [
           0.8792666795601138,
           0.016375762250476135,
           0.06328120441221621,
           0.07586941565332149,
           0.06128545254634147,
           -0.024005979206540663,
           -0.27959686927731414,
           -0.23428379073909683,
           -0.17322309763625285,
           0.020823026950681698,
           1,
           0.029725444435007704,
           0.030789984371268602,
           -0.011933590386640583,
           -0.0019745137278973455,
           0.025414463163697863,
           -0.0024660151608362525,
           0.025076678083229897,
           -0.004642895556883727,
           0.026477575788194242
          ],
          [
           0.0255426210215885,
           -0.08441634801795701,
           -0.10174588587314544,
           -0.1285031138350279,
           -0.10357529841038732,
           -0.5317749015575376,
           -0.009511026010981942,
           0.03328684007620939,
           -0.08042352692297171,
           0.005030093310483651,
           0.029725444435007704,
           1,
           0.9506078210057103,
           -0.28536184166879314,
           -0.2924391507267422,
           0.03444368337140067,
           0.015446802601704888,
           0.034070927952628,
           0.01793865985142005,
           -0.0270884317414685
          ],
          [
           0.02485673031640129,
           -0.09073052749778582,
           -0.1109782808789299,
           -0.14176963755379018,
           -0.11211023344970455,
           -0.5304279266863065,
           -0.008178204199307641,
           0.03516497040203399,
           -0.07420039933694265,
           0.007650584799830141,
           0.030789984371268602,
           0.9506078210057103,
           1,
           -0.26441108570342875,
           -0.28791369987707344,
           0.030306054822160672,
           0.013990128740134942,
           0.029944811852057312,
           0.01709225840323752,
           -0.026745269437452222
          ],
          [
           -0.007133644644716532,
           0.03596971481218238,
           0.05255576119136333,
           0.05216883702832841,
           0.062003933906689394,
           0.1704819501580822,
           -0.09061070612347262,
           -0.09137002273803818,
           0.011061357124622466,
           -0.03174789381809843,
           -0.011933590386640583,
           -0.28536184166879314,
           -0.26441108570342875,
           1,
           0.15672105350838147,
           -0.00869323745442775,
           -0.006027512210595145,
           -0.008595283439328605,
           -0.0090269073193559,
           0.015461218123372485
          ],
          [
           -0.01830889697226238,
           0.060442454632743225,
           0.13154597610227975,
           0.1260867165834715,
           0.13958275646582655,
           0.19864601665055973,
           0.09184674144829554,
           -0.018438995922047837,
           0.059978275085446904,
           0.05065983749450076,
           -0.0019745137278973455,
           -0.2924391507267422,
           -0.28791369987707344,
           0.15672105350838147,
           1,
           -0.019153966436009032,
           -0.030464810442704465,
           -0.018798246338116907,
           -0.032332314528555506,
           0.19664248148586308
          ],
          [
           0.015711375174353403,
           -0.013087411530864847,
           0.00012482556179724838,
           -0.011984368048580931,
           0.00025843905101905976,
           -0.011369918108719816,
           -0.007529529615201087,
           0.005832205662558655,
           -0.008991359507226546,
           0.012496511817682682,
           0.025414463163697863,
           0.03444368337140067,
           0.030306054822160672,
           -0.00869323745442775,
           -0.019153966436009032,
           1,
           0.32927377627450444,
           0.9984953641422151,
           0.253452650040809,
           0.014940791732264614
          ],
          [
           -0.001076052723123695,
           -0.013188545942284165,
           -0.021140225098000176,
           -0.022836842330270515,
           -0.02221653867114367,
           0.006313614572525934,
           -0.00045394312703965354,
           0.01624413373033921,
           -0.003275494700260132,
           -0.0026890546280668747,
           -0.0024660151608362525,
           0.015446802601704888,
           0.013990128740134942,
           -0.006027512210595145,
           -0.030464810442704465,
           0.32927377627450444,
           1,
           0.3314845258700807,
           0.8606717245950795,
           -0.0005725512258000038
          ],
          [
           0.015357025887858252,
           -0.013007145691503196,
           0.00017501119218480549,
           -0.011733903783648936,
           0.0002823068304491845,
           -0.010860685425443588,
           -0.007145949341064452,
           0.005971220819954853,
           -0.008954420722715292,
           0.012906437116621344,
           0.025076678083229897,
           0.034070927952628,
           0.029944811852057312,
           -0.008595283439328605,
           -0.018798246338116907,
           0.9984953641422151,
           0.3314845258700807,
           1,
           0.2555092146982799,
           0.015353014550565878
          ],
          [
           -0.0017027173862316698,
           -0.013087639858421764,
           -0.023678431824410928,
           -0.02397441228898429,
           -0.02448727601005411,
           0.0024150374502624862,
           -0.0020376806924146005,
           0.013760486629225327,
           -0.004594573493276642,
           -0.004307884677958333,
           -0.004642895556883727,
           0.01793865985142005,
           0.01709225840323752,
           -0.0090269073193559,
           -0.032332314528555506,
           0.253452650040809,
           0.8606717245950795,
           0.2555092146982799,
           1,
           -0.0021596388330978574
          ],
          [
           0.005215918346977445,
           0.019147022874425122,
           0.07525347977002587,
           0.06461647933544806,
           0.07793410637610512,
           0.04525255970573733,
           0.08280694755012141,
           -0.01955284350167313,
           0.05701412952100983,
           0.0884637161260986,
           0.026477575788194242,
           -0.0270884317414685,
           -0.026745269437452222,
           0.015461218123372485,
           0.19664248148586308,
           0.014940791732264614,
           -0.0005725512258000038,
           0.015353014550565878,
           -0.0021596388330978574,
           1
          ]
         ]
        }
       ],
       "layout": {
        "coloraxis": {
         "colorscale": [
          [
           0,
           "#0d0887"
          ],
          [
           0.1111111111111111,
           "#46039f"
          ],
          [
           0.2222222222222222,
           "#7201a8"
          ],
          [
           0.3333333333333333,
           "#9c179e"
          ],
          [
           0.4444444444444444,
           "#bd3786"
          ],
          [
           0.5555555555555556,
           "#d8576b"
          ],
          [
           0.6666666666666666,
           "#ed7953"
          ],
          [
           0.7777777777777778,
           "#fb9f3a"
          ],
          [
           0.8888888888888888,
           "#fdca26"
          ],
          [
           1,
           "#f0f921"
          ]
         ]
        },
        "height": 600,
        "margin": {
         "t": 60
        },
        "template": {
         "data": {
          "bar": [
           {
            "error_x": {
             "color": "#2a3f5f"
            },
            "error_y": {
             "color": "#2a3f5f"
            },
            "marker": {
             "line": {
              "color": "#E5ECF6",
              "width": 0.5
             },
             "pattern": {
              "fillmode": "overlay",
              "size": 10,
              "solidity": 0.2
             }
            },
            "type": "bar"
           }
          ],
          "barpolar": [
           {
            "marker": {
             "line": {
              "color": "#E5ECF6",
              "width": 0.5
             },
             "pattern": {
              "fillmode": "overlay",
              "size": 10,
              "solidity": 0.2
             }
            },
            "type": "barpolar"
           }
          ],
          "carpet": [
           {
            "aaxis": {
             "endlinecolor": "#2a3f5f",
             "gridcolor": "white",
             "linecolor": "white",
             "minorgridcolor": "white",
             "startlinecolor": "#2a3f5f"
            },
            "baxis": {
             "endlinecolor": "#2a3f5f",
             "gridcolor": "white",
             "linecolor": "white",
             "minorgridcolor": "white",
             "startlinecolor": "#2a3f5f"
            },
            "type": "carpet"
           }
          ],
          "choropleth": [
           {
            "colorbar": {
             "outlinewidth": 0,
             "ticks": ""
            },
            "type": "choropleth"
           }
          ],
          "contour": [
           {
            "colorbar": {
             "outlinewidth": 0,
             "ticks": ""
            },
            "colorscale": [
             [
              0,
              "#0d0887"
             ],
             [
              0.1111111111111111,
              "#46039f"
             ],
             [
              0.2222222222222222,
              "#7201a8"
             ],
             [
              0.3333333333333333,
              "#9c179e"
             ],
             [
              0.4444444444444444,
              "#bd3786"
             ],
             [
              0.5555555555555556,
              "#d8576b"
             ],
             [
              0.6666666666666666,
              "#ed7953"
             ],
             [
              0.7777777777777778,
              "#fb9f3a"
             ],
             [
              0.8888888888888888,
              "#fdca26"
             ],
             [
              1,
              "#f0f921"
             ]
            ],
            "type": "contour"
           }
          ],
          "contourcarpet": [
           {
            "colorbar": {
             "outlinewidth": 0,
             "ticks": ""
            },
            "type": "contourcarpet"
           }
          ],
          "heatmap": [
           {
            "colorbar": {
             "outlinewidth": 0,
             "ticks": ""
            },
            "colorscale": [
             [
              0,
              "#0d0887"
             ],
             [
              0.1111111111111111,
              "#46039f"
             ],
             [
              0.2222222222222222,
              "#7201a8"
             ],
             [
              0.3333333333333333,
              "#9c179e"
             ],
             [
              0.4444444444444444,
              "#bd3786"
             ],
             [
              0.5555555555555556,
              "#d8576b"
             ],
             [
              0.6666666666666666,
              "#ed7953"
             ],
             [
              0.7777777777777778,
              "#fb9f3a"
             ],
             [
              0.8888888888888888,
              "#fdca26"
             ],
             [
              1,
              "#f0f921"
             ]
            ],
            "type": "heatmap"
           }
          ],
          "heatmapgl": [
           {
            "colorbar": {
             "outlinewidth": 0,
             "ticks": ""
            },
            "colorscale": [
             [
              0,
              "#0d0887"
             ],
             [
              0.1111111111111111,
              "#46039f"
             ],
             [
              0.2222222222222222,
              "#7201a8"
             ],
             [
              0.3333333333333333,
              "#9c179e"
             ],
             [
              0.4444444444444444,
              "#bd3786"
             ],
             [
              0.5555555555555556,
              "#d8576b"
             ],
             [
              0.6666666666666666,
              "#ed7953"
             ],
             [
              0.7777777777777778,
              "#fb9f3a"
             ],
             [
              0.8888888888888888,
              "#fdca26"
             ],
             [
              1,
              "#f0f921"
             ]
            ],
            "type": "heatmapgl"
           }
          ],
          "histogram": [
           {
            "marker": {
             "pattern": {
              "fillmode": "overlay",
              "size": 10,
              "solidity": 0.2
             }
            },
            "type": "histogram"
           }
          ],
          "histogram2d": [
           {
            "colorbar": {
             "outlinewidth": 0,
             "ticks": ""
            },
            "colorscale": [
             [
              0,
              "#0d0887"
             ],
             [
              0.1111111111111111,
              "#46039f"
             ],
             [
              0.2222222222222222,
              "#7201a8"
             ],
             [
              0.3333333333333333,
              "#9c179e"
             ],
             [
              0.4444444444444444,
              "#bd3786"
             ],
             [
              0.5555555555555556,
              "#d8576b"
             ],
             [
              0.6666666666666666,
              "#ed7953"
             ],
             [
              0.7777777777777778,
              "#fb9f3a"
             ],
             [
              0.8888888888888888,
              "#fdca26"
             ],
             [
              1,
              "#f0f921"
             ]
            ],
            "type": "histogram2d"
           }
          ],
          "histogram2dcontour": [
           {
            "colorbar": {
             "outlinewidth": 0,
             "ticks": ""
            },
            "colorscale": [
             [
              0,
              "#0d0887"
             ],
             [
              0.1111111111111111,
              "#46039f"
             ],
             [
              0.2222222222222222,
              "#7201a8"
             ],
             [
              0.3333333333333333,
              "#9c179e"
             ],
             [
              0.4444444444444444,
              "#bd3786"
             ],
             [
              0.5555555555555556,
              "#d8576b"
             ],
             [
              0.6666666666666666,
              "#ed7953"
             ],
             [
              0.7777777777777778,
              "#fb9f3a"
             ],
             [
              0.8888888888888888,
              "#fdca26"
             ],
             [
              1,
              "#f0f921"
             ]
            ],
            "type": "histogram2dcontour"
           }
          ],
          "mesh3d": [
           {
            "colorbar": {
             "outlinewidth": 0,
             "ticks": ""
            },
            "type": "mesh3d"
           }
          ],
          "parcoords": [
           {
            "line": {
             "colorbar": {
              "outlinewidth": 0,
              "ticks": ""
             }
            },
            "type": "parcoords"
           }
          ],
          "pie": [
           {
            "automargin": true,
            "type": "pie"
           }
          ],
          "scatter": [
           {
            "fillpattern": {
             "fillmode": "overlay",
             "size": 10,
             "solidity": 0.2
            },
            "type": "scatter"
           }
          ],
          "scatter3d": [
           {
            "line": {
             "colorbar": {
              "outlinewidth": 0,
              "ticks": ""
             }
            },
            "marker": {
             "colorbar": {
              "outlinewidth": 0,
              "ticks": ""
             }
            },
            "type": "scatter3d"
           }
          ],
          "scattercarpet": [
           {
            "marker": {
             "colorbar": {
              "outlinewidth": 0,
              "ticks": ""
             }
            },
            "type": "scattercarpet"
           }
          ],
          "scattergeo": [
           {
            "marker": {
             "colorbar": {
              "outlinewidth": 0,
              "ticks": ""
             }
            },
            "type": "scattergeo"
           }
          ],
          "scattergl": [
           {
            "marker": {
             "colorbar": {
              "outlinewidth": 0,
              "ticks": ""
             }
            },
            "type": "scattergl"
           }
          ],
          "scattermapbox": [
           {
            "marker": {
             "colorbar": {
              "outlinewidth": 0,
              "ticks": ""
             }
            },
            "type": "scattermapbox"
           }
          ],
          "scatterpolar": [
           {
            "marker": {
             "colorbar": {
              "outlinewidth": 0,
              "ticks": ""
             }
            },
            "type": "scatterpolar"
           }
          ],
          "scatterpolargl": [
           {
            "marker": {
             "colorbar": {
              "outlinewidth": 0,
              "ticks": ""
             }
            },
            "type": "scatterpolargl"
           }
          ],
          "scatterternary": [
           {
            "marker": {
             "colorbar": {
              "outlinewidth": 0,
              "ticks": ""
             }
            },
            "type": "scatterternary"
           }
          ],
          "surface": [
           {
            "colorbar": {
             "outlinewidth": 0,
             "ticks": ""
            },
            "colorscale": [
             [
              0,
              "#0d0887"
             ],
             [
              0.1111111111111111,
              "#46039f"
             ],
             [
              0.2222222222222222,
              "#7201a8"
             ],
             [
              0.3333333333333333,
              "#9c179e"
             ],
             [
              0.4444444444444444,
              "#bd3786"
             ],
             [
              0.5555555555555556,
              "#d8576b"
             ],
             [
              0.6666666666666666,
              "#ed7953"
             ],
             [
              0.7777777777777778,
              "#fb9f3a"
             ],
             [
              0.8888888888888888,
              "#fdca26"
             ],
             [
              1,
              "#f0f921"
             ]
            ],
            "type": "surface"
           }
          ],
          "table": [
           {
            "cells": {
             "fill": {
              "color": "#EBF0F8"
             },
             "line": {
              "color": "white"
             }
            },
            "header": {
             "fill": {
              "color": "#C8D4E3"
             },
             "line": {
              "color": "white"
             }
            },
            "type": "table"
           }
          ]
         },
         "layout": {
          "annotationdefaults": {
           "arrowcolor": "#2a3f5f",
           "arrowhead": 0,
           "arrowwidth": 1
          },
          "autotypenumbers": "strict",
          "coloraxis": {
           "colorbar": {
            "outlinewidth": 0,
            "ticks": ""
           }
          },
          "colorscale": {
           "diverging": [
            [
             0,
             "#8e0152"
            ],
            [
             0.1,
             "#c51b7d"
            ],
            [
             0.2,
             "#de77ae"
            ],
            [
             0.3,
             "#f1b6da"
            ],
            [
             0.4,
             "#fde0ef"
            ],
            [
             0.5,
             "#f7f7f7"
            ],
            [
             0.6,
             "#e6f5d0"
            ],
            [
             0.7,
             "#b8e186"
            ],
            [
             0.8,
             "#7fbc41"
            ],
            [
             0.9,
             "#4d9221"
            ],
            [
             1,
             "#276419"
            ]
           ],
           "sequential": [
            [
             0,
             "#0d0887"
            ],
            [
             0.1111111111111111,
             "#46039f"
            ],
            [
             0.2222222222222222,
             "#7201a8"
            ],
            [
             0.3333333333333333,
             "#9c179e"
            ],
            [
             0.4444444444444444,
             "#bd3786"
            ],
            [
             0.5555555555555556,
             "#d8576b"
            ],
            [
             0.6666666666666666,
             "#ed7953"
            ],
            [
             0.7777777777777778,
             "#fb9f3a"
            ],
            [
             0.8888888888888888,
             "#fdca26"
            ],
            [
             1,
             "#f0f921"
            ]
           ],
           "sequentialminus": [
            [
             0,
             "#0d0887"
            ],
            [
             0.1111111111111111,
             "#46039f"
            ],
            [
             0.2222222222222222,
             "#7201a8"
            ],
            [
             0.3333333333333333,
             "#9c179e"
            ],
            [
             0.4444444444444444,
             "#bd3786"
            ],
            [
             0.5555555555555556,
             "#d8576b"
            ],
            [
             0.6666666666666666,
             "#ed7953"
            ],
            [
             0.7777777777777778,
             "#fb9f3a"
            ],
            [
             0.8888888888888888,
             "#fdca26"
            ],
            [
             1,
             "#f0f921"
            ]
           ]
          },
          "colorway": [
           "#636efa",
           "#EF553B",
           "#00cc96",
           "#ab63fa",
           "#FFA15A",
           "#19d3f3",
           "#FF6692",
           "#B6E880",
           "#FF97FF",
           "#FECB52"
          ],
          "font": {
           "color": "#2a3f5f"
          },
          "geo": {
           "bgcolor": "white",
           "lakecolor": "white",
           "landcolor": "#E5ECF6",
           "showlakes": true,
           "showland": true,
           "subunitcolor": "white"
          },
          "hoverlabel": {
           "align": "left"
          },
          "hovermode": "closest",
          "mapbox": {
           "style": "light"
          },
          "paper_bgcolor": "white",
          "plot_bgcolor": "#E5ECF6",
          "polar": {
           "angularaxis": {
            "gridcolor": "white",
            "linecolor": "white",
            "ticks": ""
           },
           "bgcolor": "#E5ECF6",
           "radialaxis": {
            "gridcolor": "white",
            "linecolor": "white",
            "ticks": ""
           }
          },
          "scene": {
           "xaxis": {
            "backgroundcolor": "#E5ECF6",
            "gridcolor": "white",
            "gridwidth": 2,
            "linecolor": "white",
            "showbackground": true,
            "ticks": "",
            "zerolinecolor": "white"
           },
           "yaxis": {
            "backgroundcolor": "#E5ECF6",
            "gridcolor": "white",
            "gridwidth": 2,
            "linecolor": "white",
            "showbackground": true,
            "ticks": "",
            "zerolinecolor": "white"
           },
           "zaxis": {
            "backgroundcolor": "#E5ECF6",
            "gridcolor": "white",
            "gridwidth": 2,
            "linecolor": "white",
            "showbackground": true,
            "ticks": "",
            "zerolinecolor": "white"
           }
          },
          "shapedefaults": {
           "line": {
            "color": "#2a3f5f"
           }
          },
          "ternary": {
           "aaxis": {
            "gridcolor": "white",
            "linecolor": "white",
            "ticks": ""
           },
           "baxis": {
            "gridcolor": "white",
            "linecolor": "white",
            "ticks": ""
           },
           "bgcolor": "#E5ECF6",
           "caxis": {
            "gridcolor": "white",
            "linecolor": "white",
            "ticks": ""
           }
          },
          "title": {
           "x": 0.05
          },
          "xaxis": {
           "automargin": true,
           "gridcolor": "white",
           "linecolor": "white",
           "ticks": "",
           "title": {
            "standoff": 15
           },
           "zerolinecolor": "white",
           "zerolinewidth": 2
          },
          "yaxis": {
           "automargin": true,
           "gridcolor": "white",
           "linecolor": "white",
           "ticks": "",
           "title": {
            "standoff": 15
           },
           "zerolinecolor": "white",
           "zerolinewidth": 2
          }
         }
        },
        "width": 1200,
        "xaxis": {
         "anchor": "y",
         "constrain": "domain",
         "domain": [
          0,
          1
         ],
         "scaleanchor": "y"
        },
        "yaxis": {
         "anchor": "x",
         "autorange": "reversed",
         "constrain": "domain",
         "domain": [
          0,
          1
         ]
        }
       }
      }
     },
     "metadata": {},
     "output_type": "display_data"
    }
   ],
   "source": [
    "fig = px.imshow(corr_data)\n",
    "fig.update_layout(width = 1200, height = 600)\n",
    "fig.show()"
   ]
  }
 ],
 "metadata": {
  "kernelspec": {
   "display_name": "env",
   "language": "python",
   "name": "python3"
  },
  "language_info": {
   "codemirror_mode": {
    "name": "ipython",
    "version": 3
   },
   "file_extension": ".py",
   "mimetype": "text/x-python",
   "name": "python",
   "nbconvert_exporter": "python",
   "pygments_lexer": "ipython3",
   "version": "3.11.3"
  }
 },
 "nbformat": 4,
 "nbformat_minor": 2
}
